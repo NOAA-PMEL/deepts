{
 "cells": [
  {
   "cell_type": "code",
   "execution_count": 3,
   "id": "d33ad16d-4b65-4c7d-815f-91cff115305a",
   "metadata": {},
   "outputs": [],
   "source": [
    "import json\n",
    "import pandas as pd\n",
    "from sdig.erddap.info import Info\n",
    "import datetime\n",
    "import ssl\n",
    "import dateutil\n",
    "import constants\n",
    "ssl._create_default_https_context = ssl._create_unverified_context"
   ]
  },
  {
   "cell_type": "code",
   "execution_count": 4,
   "id": "1d476d70-afe1-481d-bf13-6810a3ca3881",
   "metadata": {},
   "outputs": [
    {
     "name": "stdout",
     "output_type": "stream",
     "text": [
      "https://data.pmel.noaa.gov/pmel/erddap/tabledap/LOCO_MOZCHANNEL_deepTS.csv?time&orderByMinMax(\"time\")&TEMP!=NaN&CNDC!=NaN&PSAL!=NaN\n",
      "https://data.pmel.noaa.gov/pmel/erddap/tabledap/Stratus_deepTS.csv?time&orderByMinMax(\"time\")&CNDC!=NaN&TEMP!=NaN&PSAL!=NaN\n",
      "https://data.pmel.noaa.gov/pmel/erddap/tabledap/PAPA_deepTS.csv?time&orderByMinMax(\"time\")&CNDC!=NaN&TEMP!=NaN&PSAL!=NaN\n",
      "https://data.pmel.noaa.gov/pmel/erddap/tabledap/MOVE1_deepTS.csv?time&orderByMinMax(\"time\")&TEMP!=NaN&PSAL!=NaN&CNDC!=NaN\n",
      "https://data.pmel.noaa.gov/pmel/erddap/tabledap/MOVE2_deepTS.csv?time&orderByMinMax(\"time\")&TEMP!=NaN&PSAL!=NaN&CNDC!=NaN\n",
      "https://data.pmel.noaa.gov/pmel/erddap/tabledap/MOVE3_deepTS.csv?time&orderByMinMax(\"time\")&TEMP!=NaN&PSAL!=NaN&CNDC!=NaN\n",
      "https://data.pmel.noaa.gov/pmel/erddap/tabledap/KEO_deepTS.csv?time&orderByMinMax(\"time\")&TEMP!=NaN&PSAL!=NaN&DENS!=NaN&CNDC!=NaN\n",
      "https://data.pmel.noaa.gov/pmel/erddap/tabledap/EC1_deepTS.csv?time&orderByMinMax(\"time\")&TEMP!=NaN&PSAL!=NaN&DOX2!=NaN\n",
      "https://data.pmel.noaa.gov/pmel/erddap/tabledap/NTAS_deepTS.csv?time&orderByMinMax(\"time\")&TEMP!=NaN&PSAL!=NaN&CNDC!=NaN\n",
      "https://data.pmel.noaa.gov/pmel/erddap/tabledap/NOG_deepTS.csv?time&orderByMinMax(\"time\")&TEMP!=NaN&PSAL!=NaN&CNDC!=NaN\n",
      "https://data.pmel.noaa.gov/pmel/erddap/tabledap/WHOTS_deepTS.csv?time&orderByMinMax(\"time\")&TEMP!=NaN&PSAL!=NaN&CNDC!=NaN\n",
      "https://data.pmel.noaa.gov/pmel/erddap/tabledap/IRMINGSEA1_deepTS.csv?time&orderByMinMax(\"time\")&TEMP!=NaN&PSAL!=NaN&CNDC!=NaN\n",
      "https://data.pmel.noaa.gov/pmel/erddap/tabledap/IRMINGSEA2_deepTS.csv?time&orderByMinMax(\"time\")&TEMP!=NaN&PSAL!=NaN&CNDC!=NaN\n",
      "https://data.pmel.noaa.gov/pmel/erddap/tabledap/IMOS_EAC_deepTS.csv?time&orderByMinMax(\"time\")&TEMP!=NaN&PSAL!=NaN\n",
      "https://data.pmel.noaa.gov/pmel/erddap/tabledap/PAP_deepTS.csv?time&orderByMinMax(\"time\")&TEMP!=NaN&CNDC!=NaN&PSAL!=NaN\n",
      "There are  15  sites configured.\n",
      "2000-01-29 2022-10-19\n"
     ]
    }
   ],
   "source": [
    "with open(\"config/start_config.json\", \"r+\") as site_file:\n",
    "    site_json = json.load(site_file)\n",
    "all_start_seconds = 999999999999999999999\n",
    "all_end_seconds = -1\n",
    "for site in site_json:\n",
    "\n",
    "    url = site_json[site]['url']\n",
    "\n",
    "    info = Info(url)\n",
    "    \n",
    "    variables, long_names, units, stardard_names, var_types = info.get_variables()\n",
    "    not_null = ''\n",
    "    for var in site_json[site]['variables']:\n",
    "        not_null = not_null + '&' + var + '!=NaN'\n",
    "    time_url = url + '.csv?time&orderByMinMax(\"time\")'+not_null\n",
    "    print(time_url)\n",
    "    df = pd.read_csv(time_url, skiprows=[1])\n",
    "    start_date = df['time'].min()\n",
    "    end_date = df['time'].max()\n",
    "    starto = dateutil.parser.isoparse(start_date)\n",
    "    endo = dateutil.parser.isoparse(end_date)\n",
    "    start_date = datetime.datetime.strftime(starto, constants.d_format)\n",
    "    end_date = datetime.datetime.strftime(endo, constants.d_format)\n",
    "    start_date_seconds = starto.timestamp()\n",
    "    end_date_seconds = endo.timestamp()\n",
    "    time_marks = Info.get_time_marks(start_date_seconds, end_date_seconds)\n",
    "    site_json[site]['start_date'] = start_date\n",
    "    site_json[site]['start_date_seconds'] = start_date_seconds\n",
    "    if start_date_seconds < all_start_seconds:\n",
    "        all_start_seconds = start_date_seconds\n",
    "        all_start = start_date\n",
    "    if end_date_seconds > all_end_seconds:\n",
    "        all_end_seconds = end_date_seconds\n",
    "        all_end = end_date\n",
    "    site_json[site]['end_date'] = end_date\n",
    "    site_json[site]['end_date_seconds'] = end_date_seconds\n",
    "    site_json[site]['long_names'] = long_names\n",
    "    site_json[site]['units'] = units\n",
    "    site_json[site]['time_marks'] = time_marks\n",
    "    site_json[site]['title'] = info.get_title()\n",
    "    if site_json[site]['depth_name'] == \"None\":\n",
    "        site_json[site]['has_depth'] = \"false\"\n",
    "    else:\n",
    "        site_json[site]['has_depth'] = \"true\"\n",
    "    if site_json[site]['pressure_name'] == \"None\":\n",
    "        site_json[site]['has_pressure'] = \"false\"\n",
    "    else:\n",
    "        site_json[site]['has_pressure'] = \"true\"\n",
    "config = {}\n",
    "config['all_start'] = all_start\n",
    "config['all_end'] = all_end\n",
    "config['all_start_seconds'] = all_start_seconds\n",
    "config['all_end_seconds'] = all_end_seconds\n",
    "config['sites'] = site_json\n",
    "print('There are ', len(site_json), ' sites configured.')\n",
    "print(all_start, all_end)\n",
    "with open('config/sites.json', 'w') as fp:\n",
    "    json.dump(config, fp, indent=4)"
   ]
  },
  {
   "cell_type": "code",
   "execution_count": 1,
   "id": "d4ebfbfd-5b07-4a85-b66f-63bd770512ce",
   "metadata": {},
   "outputs": [],
   "source": [
    "import tasks\n",
    "tasks.load_locations()"
   ]
  }
 ],
 "metadata": {
  "kernelspec": {
   "display_name": "Python 3",
   "language": "python",
   "name": "python3"
  },
  "language_info": {
   "codemirror_mode": {
    "name": "ipython",
    "version": 3
   },
   "file_extension": ".py",
   "mimetype": "text/x-python",
   "name": "python",
   "nbconvert_exporter": "python",
   "pygments_lexer": "ipython3",
   "version": "3.10.11"
  }
 },
 "nbformat": 4,
 "nbformat_minor": 5
}
